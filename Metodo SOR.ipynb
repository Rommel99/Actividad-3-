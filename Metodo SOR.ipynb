{
 "cells": [
  {
   "cell_type": "code",
   "execution_count": 12,
   "id": "7ad20529",
   "metadata": {},
   "outputs": [
    {
     "name": "stdout",
     "output_type": "stream",
     "text": [
      "  0 Vector Inicial: [0. 0. 0. 0.]\n",
      "[[ 7  1 -1  2]\n",
      " [ 1  8  0 -2]\n",
      " [-1  0  4 -1]\n",
      " [ 2 -2 -1  6]]\n",
      "\t\t\tMetodo SOR\n",
      "la interaccion 1 obtenida es: [ 0.4714 -0.7523  1.2296 -0.7733]\n",
      "la interaccion 2 obtenida es: [ 0.9788 -0.9595  1.0335 -0.9939]\n",
      "la interaccion 3 obtenida es: [ 0.9991 -1.0022  0.9981 -1.0015]\n",
      "la interaccion 4 obtenida es: [ 1.0006 -1.0003  1.     -1.0002]\n",
      "la interaccion 5 obtenida es: [ 1. -1.  1. -1.]\n",
      " \n",
      "\u001b[1;34mERROR: \n",
      "x 1 es = 0.0029419032669952827 %\n",
      "x 2 es = 0.002681983306263014 %\n",
      "x 3 es = 0.0036134375151153364 %\n",
      "x 4 es = 0.0009534752473339125 %\n"
     ]
    }
   ],
   "source": [
    "import numpy as np\n",
    "import matplotlib.pyplot as plt #importamos las librerias correspondientes\n",
    "import math\n",
    "##Ingreso de matriz\n",
    "A = np.array([[7, 1, -1, 2], \n",
    "              [1, 8, 0, -2], \n",
    "              [-1, 0, 4, -1], \n",
    "             [2, -2, -1, 6]])\n",
    "b = np.array([3, -5, 4, -3])\n",
    "k = 5 ##Numero de iteracione spara llegar al valor [ 1. -1.  1. -1.]\n",
    "w = 1.1\n",
    "n = A.shape[1]\n",
    "D = np.eye(n)  \n",
    "D[np.arange(n), np.arange(n)] = A[np.arange(n), np.arange(n)]  \n",
    "LU = D - A\n",
    "##Matriz triagonal superiro e inferior \n",
    "L = np.tril(LU)\n",
    "U = np.triu(LU)\n",
    "##Almacenamiento de vectores\n",
    "D_wL = D - w * L\n",
    "X = np.zeros(n)\n",
    "print(\" \", 0, \"Vector Inicial:\", X)\n",
    "print(A)\n",
    "print(\"\\t\\t\\tMetodo SOR\")\n",
    "for i in range(k):\n",
    "    D_wL_inv = np.linalg.inv(D_wL)\n",
    "    X = np.dot(np.dot(D_wL_inv, (1 - w) * D + w * U), X) + w * np.dot(D_wL_inv, b)\n",
    "    print(\"la interaccion\" ,i+1, \"obtenida es:\", X.round(decimals=4))\n",
    "\n",
    "print(\" \")\n",
    "##Error cometido en la solucion [ 1. -1.  1. -1.]\n",
    "print(\"\\x1b[1;34m\"+\"ERROR: \")\n",
    "xR = ([1, -1, 1, -1])\n",
    "e = np.zeros(4)\n",
    "for i in range(4):\n",
    "    e[i] = (xR[i] - X[i]) / xR[i]\n",
    "    print('x',i+1, 'es =', 100 * abs(e[i]), '%')"
   ]
  },
  {
   "cell_type": "code",
   "execution_count": null,
   "id": "c6b9647f",
   "metadata": {},
   "outputs": [],
   "source": []
  },
  {
   "cell_type": "code",
   "execution_count": null,
   "id": "eacbd73e",
   "metadata": {},
   "outputs": [],
   "source": []
  }
 ],
 "metadata": {
  "kernelspec": {
   "display_name": "Python 3",
   "language": "python",
   "name": "python3"
  },
  "language_info": {
   "codemirror_mode": {
    "name": "ipython",
    "version": 3
   },
   "file_extension": ".py",
   "mimetype": "text/x-python",
   "name": "python",
   "nbconvert_exporter": "python",
   "pygments_lexer": "ipython3",
   "version": "3.8.8"
  }
 },
 "nbformat": 4,
 "nbformat_minor": 5
}
