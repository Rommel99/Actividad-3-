{
 "cells": [
  {
   "cell_type": "code",
   "execution_count": 14,
   "id": "48f8bb6f",
   "metadata": {
    "scrolled": true
   },
   "outputs": [
    {
     "name": "stdout",
     "output_type": "stream",
     "text": [
      "\tMatriz\n",
      "[[ 6  0  0  0]\n",
      " [ 3  6  0  0]\n",
      " [ 4 -2  7  0]\n",
      " [ 5 -3  9 21]] [ 12 -12  14  -2]\n",
      "\u001b[1;34m\tMatriz sustitucion progresiva\n",
      "[ 2. -3.  0. -1.]\n"
     ]
    }
   ],
   "source": [
    "import numpy as np\n",
    "import matplotlib.pyplot as plt #importamos la libreria matplotlic para la definicon de las funciones\n",
    "import math \n",
    "## SISTEMA MATRICIAL Y TERMINOS INTEPENDIENTES\n",
    "A=np.array([[6,0,0,0],\n",
    "            [3,6,0,0],\n",
    "            [4,-2,7,0],\n",
    "            [5,-3,9,21]])\n",
    "B=np.array([12,\n",
    "            -12,\n",
    "            14,\n",
    "            -2])\n",
    "# VECTOR DE ALMACENAMIENTO\n",
    "n=np.size(B)\n",
    "x=np.zeros(n)\n",
    "\n",
    "# Metodo de sustitucion progresiva Sustitución progresiva\n",
    "for i in range (n):\n",
    "    sumj=0\n",
    "    for j in range (i):\n",
    "        sumj+=A[i,j]*x[j]\n",
    "    x[i]=(B[i]-sumj)*1/A[i,i]\n",
    "\n",
    "print (\"\\tMatriz\")\n",
    "print(A,B)##imprimimos matriz\n",
    "print (\"\\x1b[1;34m\"+\"\\tMatriz sustitucion progresiva\")\n",
    "print(x) ##imprime la respuesta\n"
   ]
  },
  {
   "cell_type": "code",
   "execution_count": null,
   "id": "e449fb24",
   "metadata": {},
   "outputs": [],
   "source": []
  }
 ],
 "metadata": {
  "kernelspec": {
   "display_name": "Python 3",
   "language": "python",
   "name": "python3"
  },
  "language_info": {
   "codemirror_mode": {
    "name": "ipython",
    "version": 3
   },
   "file_extension": ".py",
   "mimetype": "text/x-python",
   "name": "python",
   "nbconvert_exporter": "python",
   "pygments_lexer": "ipython3",
   "version": "3.8.8"
  }
 },
 "nbformat": 4,
 "nbformat_minor": 5
}
