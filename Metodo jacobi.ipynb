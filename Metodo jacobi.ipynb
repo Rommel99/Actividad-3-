{
 "cells": [
  {
   "cell_type": "code",
   "execution_count": 19,
   "id": "d6597a47",
   "metadata": {},
   "outputs": [
    {
     "name": "stdout",
     "output_type": "stream",
     "text": [
      "La matriz ingresada es:\n",
      "[[ 7  1 -1  2]\n",
      " [ 1  8  0 -2]\n",
      " [-1  0  4 -1]\n",
      " [ 2 -2 -1  6]]\n",
      "\n",
      " [ 3 -5  4 -3]\n",
      "\t\t\tMetodo Jacobi\n",
      "Iteración 0 es: [0. 0. 0. 0.]\n",
      "Iteración 1 es: [ 0.4286 -0.625   1.     -0.5   ]\n",
      "Iteración 2 es: [ 0.8036 -0.8036  0.9821 -0.6845]\n",
      "Iteración 3 es: [ 0.8793 -0.8966  1.0298 -0.872 ]\n",
      "Iteración 4 es: [ 0.9529 -0.9529  1.0018 -0.9203]\n",
      "Iteración 5 es: [ 0.9708 -0.9742  1.0081 -0.9683]\n",
      "Iteración 6 es: [ 0.9884 -0.9884  1.0006 -0.9803]\n",
      "Iteración 7 es: [ 0.9928 -0.9936  1.002  -0.9922]\n",
      "Iteración 8 es: [ 0.9971 -0.9971  1.0002 -0.9951]\n",
      "Iteración 9 es: [ 0.9982 -0.9984  1.0005 -0.9981]\n",
      "Iteración 10 es: [ 0.9993 -0.9993  1.     -0.9988]\n",
      "Iteración 11 es: [ 0.9996 -0.9996  1.0001 -0.9995]\n",
      "Iteración 12 es: [ 0.9998 -0.9998  1.     -0.9997]\n",
      "Iteración 13 es: [ 0.9999 -0.9999  1.     -0.9999]\n",
      "Iteración 14 es: [ 1.     -1.      1.     -0.9999]\n",
      "Iteración 15 es: [ 1. -1.  1. -1.]\n",
      "\u001b[1;34mITERACIONES\n",
      "CONTIENE 15 Iteraciones\n",
      "\u001b[1;34mERROR: \n",
      "x 1 es = 0.0026632163637962947 %\n",
      "x 2 es = 0.0023597059060964654 %\n",
      "x 3 es = 0.0007531940521277036 %\n",
      "x 4 es = 0.0028952098574230867 %\n"
     ]
    }
   ],
   "source": [
    "import numpy as np\n",
    "import matplotlib.pyplot as plt #importamos las librerias correspondientes\n",
    "import math\n",
    "##Ingreso de matriz\n",
    "A=np.array([[7,1,-1,2], [1,8,0,-2],[-1,0,4,-1],[2,-2,-1,6]])\n",
    "B=np.array([3,-5,4,-3])\n",
    "print(\"La matriz ingresada es:\")\n",
    "print(A)\n",
    "print(\"\\n\",B)\n",
    "j=15 ##Numero de iteracione spara llegar al valor [ 1. -1.  1. -1.]\n",
    "n=A.shape[1] \n",
    "D=np.eye(n) \n",
    "D[np.arange(n),np.arange(n)]=A[np.arange(n),np.arange(n)]\n",
    "LU=D-A\n",
    "##Matriz triagonal superiro e inferior \n",
    "L=np.tril(LU) \n",
    "U=np.triu(LU)\n",
    "##Almacenamiento de vectores\n",
    "X=np.zeros(n) \n",
    "E=[]\n",
    "print(\"\\t\\t\\tMetodo Jacobi\")\n",
    "print(\"Iteración\",0,\"es:\",X)\n",
    "#Metodo Jacobi\n",
    "for i in range(j):\n",
    "    D_inv=np.linalg.inv(D)\n",
    "    X=np.dot(np.dot(D_inv,L+U),X)+np.dot(D_inv,b)\n",
    "    \n",
    "    print(\"Iteración\",i+1, \"es:\",X.round(decimals=4))\n",
    "print(\"\\x1b[1;34m\"+\"ITERACIONES\")\n",
    "print(\"CONTIENE\", i+1, \"Iteraciones\")\n",
    "##Error cometido en la solucion [ 1. -1.  1. -1.]\n",
    "print(\"\\x1b[1;34m\"+\"ERROR: \")\n",
    "xR = ([1, -1, 1, -1])\n",
    "e = np.zeros(4)\n",
    "for i in range(4):\n",
    "    e[i] = (xR[i] - X[i]) / xR[i]\n",
    "    print('x',i+1, 'es =', 100 * abs(e[i]), '%')"
   ]
  },
  {
   "cell_type": "code",
   "execution_count": null,
   "id": "fdaa180a",
   "metadata": {},
   "outputs": [],
   "source": []
  }
 ],
 "metadata": {
  "kernelspec": {
   "display_name": "Python 3",
   "language": "python",
   "name": "python3"
  },
  "language_info": {
   "codemirror_mode": {
    "name": "ipython",
    "version": 3
   },
   "file_extension": ".py",
   "mimetype": "text/x-python",
   "name": "python",
   "nbconvert_exporter": "python",
   "pygments_lexer": "ipython3",
   "version": "3.8.8"
  }
 },
 "nbformat": 4,
 "nbformat_minor": 5
}
