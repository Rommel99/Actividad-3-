{
 "cells": [
  {
   "cell_type": "code",
   "execution_count": 18,
   "id": "a597a188",
   "metadata": {},
   "outputs": [
    {
     "name": "stdout",
     "output_type": "stream",
     "text": [
      "[[ 4  6 10]\n",
      " [ 6 25 19]\n",
      " [10 19 62]]\n",
      "[[2. 0. 0.]\n",
      " [3. 4. 0.]\n",
      " [5. 1. 6.]]\n",
      "[[ 4.  6. 10.]\n",
      " [ 6. 25. 19.]\n",
      " [10. 19. 62.]]\n"
     ]
    }
   ],
   "source": [
    "# Descomposición de Cholesky\n",
    "\n",
    "from numpy import array\n",
    "from numpy.linalg import cholesky\n",
    "# Definiendo una matriz simétrica\n",
    "A = array([\n",
    "    [4, 6, 10],\n",
    "    [6, 25, 19],\n",
    "    [10, 19, 62]\n",
    "])\n",
    "print(A)\n",
    "# Factorización\n",
    "L = cholesky(A)\n",
    "print(L)\n",
    "# Reconstruyendo\n",
    "B = L.dot(L.T)\n",
    "print(B)\n"
   ]
  },
  {
   "cell_type": "code",
   "execution_count": 40,
   "id": "f994f746",
   "metadata": {},
   "outputs": [],
   "source": [
    "def isSymetric(A):\n",
    "    return np.array_equal(A, A.T)\n",
    "\n",
    "def isPosDef(A):\n",
    "    val, vec = np.linalg.eig(A)\n",
    "    return all(i>0 for i in val)\n"
   ]
  },
  {
   "cell_type": "code",
   "execution_count": 41,
   "id": "abefcf42",
   "metadata": {},
   "outputs": [],
   "source": [
    "a = np.array([[5,4],[4,5]])"
   ]
  },
  {
   "cell_type": "code",
   "execution_count": 42,
   "id": "30454e1d",
   "metadata": {},
   "outputs": [],
   "source": [
    "def cholesky(B, b):\n",
    "    #Comprobamos que sea simetrica y positiva definida:\n",
    "    if isSymetric(A) and isPosDef(A):\n",
    "        R = np.linalg.cholesky(A)\n",
    "        RT = R.T\n",
    "\n",
    "        c = solve_triangular(R, b, lower=True)#Especificamos que es la tringular inferior\n",
    "        \n",
    "        x = solve_triangular(R, c)#Solve triangular ocupa la diagonal superior por defecto\n",
    "        return x\n",
    "    else:\n",
    "        return \"NO SE PUEDE APLICAR CHOLESKY\""
   ]
  },
  {
   "cell_type": "code",
   "execution_count": 43,
   "id": "a473b5f3",
   "metadata": {},
   "outputs": [
    {
     "data": {
      "text/plain": [
       "'NO SE PUEDE APLICAR CHOLESKY'"
      ]
     },
     "execution_count": 43,
     "metadata": {},
     "output_type": "execute_result"
    }
   ],
   "source": [
    "cholesky(np.diag(np.array([1,2,3])), np.array([1,2,3]))"
   ]
  },
  {
   "cell_type": "code",
   "execution_count": 44,
   "id": "7aee6c73",
   "metadata": {},
   "outputs": [
    {
     "data": {
      "text/plain": [
       "'NO SE PUEDE APLICAR CHOLESKY'"
      ]
     },
     "execution_count": 44,
     "metadata": {},
     "output_type": "execute_result"
    }
   ],
   "source": [
    "B = np.array([[4, 6, 10], [6, 3, 19], [10, 19, 62]])\n",
    "cholesky(A, np.zeros(3))"
   ]
  },
  {
   "cell_type": "code",
   "execution_count": null,
   "id": "2a9a4f8c",
   "metadata": {},
   "outputs": [],
   "source": []
  },
  {
   "cell_type": "code",
   "execution_count": null,
   "id": "c1f2009c",
   "metadata": {},
   "outputs": [],
   "source": []
  },
  {
   "cell_type": "code",
   "execution_count": null,
   "id": "92a83c73",
   "metadata": {},
   "outputs": [],
   "source": []
  }
 ],
 "metadata": {
  "kernelspec": {
   "display_name": "Python 3",
   "language": "python",
   "name": "python3"
  },
  "language_info": {
   "codemirror_mode": {
    "name": "ipython",
    "version": 3
   },
   "file_extension": ".py",
   "mimetype": "text/x-python",
   "name": "python",
   "nbconvert_exporter": "python",
   "pygments_lexer": "ipython3",
   "version": "3.8.8"
  }
 },
 "nbformat": 4,
 "nbformat_minor": 5
}
