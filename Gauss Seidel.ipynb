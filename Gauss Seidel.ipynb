{
 "cells": [
  {
   "cell_type": "code",
   "execution_count": 9,
   "id": "f9a5ac93",
   "metadata": {},
   "outputs": [
    {
     "name": "stdout",
     "output_type": "stream",
     "text": [
      "  0 Vector Inicial: [0. 0. 0. 0.]\n",
      "[[ 7  1 -1  2]\n",
      " [ 1  8  0 -2]\n",
      " [-1  0  4 -1]\n",
      " [ 2 -2 -1  6]]\n",
      "\t\t\tMetodo Gaus Seidel\n",
      "La interaccion 1  [ 0.4286 -0.6786  1.1071 -0.6845]\n",
      "La interaccion 2  [ 0.8793 -0.906   1.0487 -0.9203]\n",
      "La interaccion 3  [ 0.9708 -0.9764  1.0126 -0.9803]\n",
      "La interaccion 4  [ 0.9928 -0.9942  1.0031 -0.9951]\n",
      "La interaccion 5  [ 0.9982 -0.9986  1.0008 -0.9988]\n",
      "La interaccion 6  [ 0.9996 -0.9996  1.0002 -0.9997]\n",
      "La interaccion 7  [ 0.9999 -0.9999  1.     -0.9999]\n",
      "La interaccion 8  [ 1. -1.  1. -1.]\n",
      " \n",
      "\u001b[1;34mERROR: \n",
      "x 1 es = 0.0026632163637962947 %\n",
      "x 2 es = 0.002157104000244381 %\n",
      "x 3 es = 0.0011583978638318726 %\n",
      "x 4 es = 0.001799839765326272 %\n"
     ]
    }
   ],
   "source": [
    "import numpy as np\n",
    "import matplotlib.pyplot as plt #importamos las librerias correspondientes\n",
    "import math\n",
    "##insertamos la matriz \n",
    "A=np.array([[7,1,-1,2],\n",
    "            [1,8,0,-2],\n",
    "            [-1,0,4,-1],\n",
    "            [2,-2,-1,6]])\n",
    "b=np.array([3,-5,4,-3])\n",
    "k=8  ##Numero de iteracione spara llegar al valor [ 1. -1.  1. -1.]\n",
    "n=A.shape[1]\n",
    "D=np.eye(n) # MATRIZ DE LA IDENTIDAD\n",
    "D[np.arange(n),np.arange(n)]=A[np.arange(n),np.arange(n)] \n",
    "LU=D-A\n",
    "##Matriz triagonal superiro e inferior \n",
    "L=np.tril(LU)\n",
    "U=np.triu(LU)\n",
    "DL=D-L\n",
    "##Almacenamiento de vectores\n",
    "X=np.zeros(n)\n",
    "print(\" \",0,\"Vector Inicial:\",X)\n",
    "print(A)\n",
    "print(\"\\t\\t\\tMetodo Gaus Seidel\")\n",
    "for i in range(k):\n",
    "    DL_inv=np.linalg.inv(DL)\n",
    "    X=np.dot(np.dot(DL_inv,U),X)+np.dot(DL_inv,b)\n",
    "    print(\"La interaccion\",i+1,\"\",X.round(decimals=4))\n",
    "print(\" \")\n",
    "##Error cometido en la solucion [ 1. -1.  1. -1.]\n",
    "print(\"\\x1b[1;34m\"+\"ERROR: \")\n",
    "xR = ([1, -1, 1, -1])\n",
    "e = np.zeros(4)\n",
    "for i in range(4):\n",
    "    e[i] = (xR[i] - X[i]) / xR[i]\n",
    "    print('x',i+1, 'es =', 100 * abs(e[i]), '%')"
   ]
  },
  {
   "cell_type": "code",
   "execution_count": null,
   "id": "1d4ae567",
   "metadata": {},
   "outputs": [],
   "source": []
  }
 ],
 "metadata": {
  "kernelspec": {
   "display_name": "Python 3",
   "language": "python",
   "name": "python3"
  },
  "language_info": {
   "codemirror_mode": {
    "name": "ipython",
    "version": 3
   },
   "file_extension": ".py",
   "mimetype": "text/x-python",
   "name": "python",
   "nbconvert_exporter": "python",
   "pygments_lexer": "ipython3",
   "version": "3.8.8"
  }
 },
 "nbformat": 4,
 "nbformat_minor": 5
}
