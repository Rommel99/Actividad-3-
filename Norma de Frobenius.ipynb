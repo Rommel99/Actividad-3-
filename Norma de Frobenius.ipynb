{
 "cells": [
  {
   "cell_type": "code",
   "execution_count": 26,
   "id": "55e2c2e3",
   "metadata": {},
   "outputs": [
    {
     "data": {
      "text/plain": [
       "array([[ 4, -4,  4],\n",
       "       [-5, -2, -4],\n",
       "       [-1, -8,  7]])"
      ]
     },
     "execution_count": 26,
     "metadata": {},
     "output_type": "execute_result"
    }
   ],
   "source": [
    "import numpy as np\n",
    "a = np.random.randint(-10, 10, size=(3, 3))\n",
    "a"
   ]
  },
  {
   "cell_type": "code",
   "execution_count": 27,
   "id": "398d807f",
   "metadata": {},
   "outputs": [
    {
     "name": "stdout",
     "output_type": "stream",
     "text": [
      "3 3\n"
     ]
    }
   ],
   "source": [
    "n, m = a.shape\n",
    "print(n, m)"
   ]
  },
  {
   "cell_type": "code",
   "execution_count": 28,
   "id": "c2d3550c",
   "metadata": {},
   "outputs": [
    {
     "data": {
      "text/plain": [
       "14.38749456993816"
      ]
     },
     "execution_count": 28,
     "metadata": {},
     "output_type": "execute_result"
    }
   ],
   "source": [
    "f = 0\n",
    "\n",
    "for i in np.arange(n):\n",
    "    for j in np.arange(m):\n",
    "        f = f + np.sum(np.power(np.abs(a[i, j]), 2))\n",
    "\n",
    "np.sqrt(f)"
   ]
  },
  {
   "cell_type": "code",
   "execution_count": 29,
   "id": "98164605",
   "metadata": {},
   "outputs": [
    {
     "data": {
      "text/plain": [
       "14.38749456993816"
      ]
     },
     "execution_count": 29,
     "metadata": {},
     "output_type": "execute_result"
    }
   ],
   "source": [
    "np.sqrt(np.sum(np.abs(a) ** 2))"
   ]
  },
  {
   "cell_type": "code",
   "execution_count": 30,
   "id": "c5272e48",
   "metadata": {},
   "outputs": [
    {
     "data": {
      "text/plain": [
       "14.38749456993816"
      ]
     },
     "execution_count": 30,
     "metadata": {},
     "output_type": "execute_result"
    }
   ],
   "source": [
    "np.linalg.norm(a, 'fro')"
   ]
  },
  {
   "cell_type": "code",
   "execution_count": 31,
   "id": "30a7903b",
   "metadata": {},
   "outputs": [
    {
     "data": {
      "text/plain": [
       "15"
      ]
     },
     "execution_count": 31,
     "metadata": {},
     "output_type": "execute_result"
    }
   ],
   "source": [
    "colsums = []\n",
    "for i in np.arange(m):\n",
    "    v = np.sum(np.abs(a[:, i]))\n",
    "    colsums.append(v)\n",
    "\n",
    "np.max(colsums)"
   ]
  },
  {
   "cell_type": "code",
   "execution_count": 32,
   "id": "6346601d",
   "metadata": {},
   "outputs": [
    {
     "data": {
      "text/plain": [
       "15"
      ]
     },
     "execution_count": 32,
     "metadata": {},
     "output_type": "execute_result"
    }
   ],
   "source": [
    "np.max(np.sum(np.abs(a), axis=0))"
   ]
  },
  {
   "cell_type": "code",
   "execution_count": 33,
   "id": "e438879d",
   "metadata": {},
   "outputs": [
    {
     "data": {
      "text/plain": [
       "15.0"
      ]
     },
     "execution_count": 33,
     "metadata": {},
     "output_type": "execute_result"
    }
   ],
   "source": [
    "np.linalg.norm(a, 1)"
   ]
  },
  {
   "cell_type": "code",
   "execution_count": 34,
   "id": "b3f61ec4",
   "metadata": {},
   "outputs": [
    {
     "data": {
      "text/plain": [
       "12.244262740179872"
      ]
     },
     "execution_count": 34,
     "metadata": {},
     "output_type": "execute_result"
    }
   ],
   "source": [
    "np.sqrt(np.max(np.linalg.eigvals(np.inner(a, a))))"
   ]
  },
  {
   "cell_type": "code",
   "execution_count": 35,
   "id": "f6d1cd62",
   "metadata": {},
   "outputs": [
    {
     "data": {
      "text/plain": [
       "12.244262740179874"
      ]
     },
     "execution_count": 35,
     "metadata": {},
     "output_type": "execute_result"
    }
   ],
   "source": [
    "np.linalg.norm(a, 2)"
   ]
  },
  {
   "cell_type": "code",
   "execution_count": 36,
   "id": "658e7487",
   "metadata": {},
   "outputs": [
    {
     "name": "stdout",
     "output_type": "stream",
     "text": [
      "El resultado obtenido es:\n",
      "14.38749456993816\n"
     ]
    }
   ],
   "source": [
    "import numpy as np\n",
    "\n",
    "from math import sqrt\n",
    "A=np.array([[ 4, -4,  4],\n",
    "       [-5, -2, -4],\n",
    "       [-1, -8,  7]])\n",
    "\n",
    "m=A.shape[0]\n",
    "n=A.shape[1]\n",
    "sum_raiz=0\n",
    "for i in range (m):\n",
    "    for j in range (n):\n",
    "        sum_raiz+=pow(A[i][j],2)\n",
    "        Res=sqrt(sum_raiz)\n",
    "print(\"El resultado obtenido es:\")\n",
    "print(Res)  "
   ]
  },
  {
   "cell_type": "code",
   "execution_count": null,
   "id": "33bd6797",
   "metadata": {},
   "outputs": [],
   "source": []
  },
  {
   "cell_type": "code",
   "execution_count": null,
   "id": "3e58b066",
   "metadata": {},
   "outputs": [],
   "source": []
  }
 ],
 "metadata": {
  "kernelspec": {
   "display_name": "Python 3",
   "language": "python",
   "name": "python3"
  },
  "language_info": {
   "codemirror_mode": {
    "name": "ipython",
    "version": 3
   },
   "file_extension": ".py",
   "mimetype": "text/x-python",
   "name": "python",
   "nbconvert_exporter": "python",
   "pygments_lexer": "ipython3",
   "version": "3.8.8"
  }
 },
 "nbformat": 4,
 "nbformat_minor": 5
}
